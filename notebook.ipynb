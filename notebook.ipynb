{
 "cells": [
  {
   "cell_type": "markdown",
   "metadata": {
    "cell_id": "d5e609bea0e04e80abba18c81b40089c",
    "deepnote_cell_height": 164.8000030517578,
    "deepnote_cell_type": "markdown",
    "tags": []
   },
   "source": [
    "### Tasks \n",
    "\n",
    "1. Alert on buses which have become delayed in the last 15 minutes\n",
    "2. Visialize bus current location\n",
    "3. Count of buses per operator which are actively moving in the last 15 minutes"
   ]
  },
  {
   "cell_type": "markdown",
   "metadata": {
    "cell_id": "0b3edecbe0ff4322bfa385592a9b4baf",
    "deepnote_cell_height": 45.600006103515625,
    "deepnote_cell_type": "markdown",
    "tags": []
   },
   "source": []
  },
  {
   "cell_type": "markdown",
   "metadata": {
    "cell_id": "f3813631ebd143c5b53a76b70f482477",
    "deepnote_cell_height": 266.3999938964844,
    "deepnote_cell_type": "markdown",
    "tags": []
   },
   "source": [
    "### Needed data\n",
    "1. Veichle id: MonitoredVehicleJourney -> VehicleRef\n",
    "2. Veichle location: MonitoredVehicleJourney -> VehicleLocation\n",
    "3. Event time: RecordedAtTime\n",
    "4. Operator: MonitoredVehicleJourney -> OperatorRef\n",
    "5. VehicleAtStop -> {true, false}, moving or not\n",
    "6. Delayed status: MonitoredVehicleJourney -> OnwardCalls -> OnwardCall -> 0 -> ArrivalStatus\n",
    "7. Veichle type: MonitoredVehicleJourney -> VehicleMode"
   ]
  },
  {
   "cell_type": "markdown",
   "metadata": {
    "cell_id": "9ac7a24addd6410a906779c36d8611df",
    "deepnote_cell_height": 222.39999389648438,
    "deepnote_cell_type": "markdown",
    "tags": []
   },
   "source": [
    "#### Project Plan\n",
    "Load data from API (at XXX seconds intervals)\n",
    "Extract relevant fields into a dictionary\n",
    "Push the dictionary to a kafka topic \n",
    "Consume the kafka topic with a spark job\n",
    "Extract veiechles with delayed arrival status and print the alert\n",
    "Extract veiehcle location data and feed the data into a map visualization tool\n",
    "Extract the veiechles with the actively moveing status, group them by operator.\n",
    "\n",
    "\n"
   ]
  },
  {
   "cell_type": "code",
   "execution_count": 71,
   "metadata": {
    "cell_id": "1ead3947fc3e4650aa16851b1ca26b01",
    "deepnote_cell_height": 409,
    "deepnote_cell_type": "code",
    "deepnote_to_be_reexecuted": false,
    "execution_millis": 8524,
    "execution_start": 1659682470994,
    "source_hash": "78489857",
    "tags": []
   },
   "outputs": [
    {
     "name": "stdout",
     "output_type": "stream",
     "text": [
      "Requirement already satisfied: xmltodict in c:\\users\\ahsor\\appdata\\local\\programs\\python\\python37-32\\lib\\site-packages (0.13.0)\n"
     ]
    },
    {
     "name": "stderr",
     "output_type": "stream",
     "text": [
      "WARNING: You are using pip version 20.2.3; however, version 22.2.1 is available.\n",
      "You should consider upgrading via the 'c:\\users\\ahsor\\appdata\\local\\programs\\python\\python37-32\\python.exe -m pip install --upgrade pip' command.\n"
     ]
    },
    {
     "name": "stdout",
     "output_type": "stream",
     "text": [
      "Requirement already satisfied: confluent_kafka in c:\\users\\ahsor\\appdata\\local\\programs\\python\\python37-32\\lib\\site-packages (1.9.0)\n"
     ]
    },
    {
     "name": "stderr",
     "output_type": "stream",
     "text": [
      "WARNING: You are using pip version 20.2.3; however, version 22.2.1 is available.\n",
      "You should consider upgrading via the 'c:\\users\\ahsor\\appdata\\local\\programs\\python\\python37-32\\python.exe -m pip install --upgrade pip' command.\n"
     ]
    }
   ],
   "source": [
    "!pip install xmltodict\n",
    "!pip install confluent_kafka"
   ]
  },
  {
   "cell_type": "code",
   "execution_count": 73,
   "metadata": {
    "cell_id": "b4dad2e86f984ca2a408e06c885f072c",
    "deepnote_cell_height": 219.60000610351562,
    "deepnote_cell_type": "code",
    "deepnote_to_be_reexecuted": false,
    "execution_millis": 27,
    "execution_start": 1659682481424,
    "source_hash": "2b5ea990",
    "tags": []
   },
   "outputs": [],
   "source": [
    "import itertools\n",
    "import requests\n",
    "from xml.etree import ElementTree\n",
    "import xmltodict\n",
    "from datetime import datetime\n",
    "from confluent_kafka import Producer\n",
    "import sched, time\n",
    "import json\n",
    "from collections import defaultdict"
   ]
  },
  {
   "cell_type": "code",
   "execution_count": 74,
   "metadata": {
    "cell_id": "d355ec22-8cf7-409a-a64c-fac05571a4c3",
    "deepnote_cell_height": 255.60000610351562,
    "deepnote_cell_type": "code",
    "deepnote_to_be_reexecuted": false,
    "execution_millis": 872,
    "execution_start": 1659682481453,
    "source_hash": "973472cd",
    "tags": []
   },
   "outputs": [],
   "source": [
    "headers = {\n",
    "    'content-type': 'application/json'\n",
    "}\n",
    "\n",
    "\n",
    "def apiCall(url):\n",
    "    r = requests.get(url, headers=headers)\n",
    "    return r.json()\n",
    "    \n",
    "url = \"https://api.entur.io/realtime/v1/rest/vm?maxSize=100\"\n",
    "apiResult = apiCall(url)"
   ]
  },
  {
   "cell_type": "code",
   "execution_count": 75,
   "metadata": {
    "cell_id": "473660fbe691490f97b28d6ecdc41c1d",
    "deepnote_cell_height": 327.6000061035156,
    "deepnote_cell_type": "code",
    "deepnote_to_be_reexecuted": false,
    "execution_millis": 17,
    "execution_start": 1659682482331,
    "source_hash": "11d6ade7",
    "tags": []
   },
   "outputs": [],
   "source": [
    "def acked(err, msg):\n",
    "    if err is not None:\n",
    "        print(\"Failed to deliver message: %s: %s\" % (str(msg), str(err)))\n",
    "    else:\n",
    "        print(\"Message produced: %s\" % (str(msg)))\n",
    "\n",
    "def produce_events(apiResult):\n",
    "    conf = {'bootstrap.servers': \"localhost:19092,localhost:29092\"}\n",
    "    producer = Producer(conf)\n",
    "    producer.produce(topic=\"UsefullAPIResults\", value=str(apiResult), callback=acked)\n",
    "    producer.poll(1)\n",
    "    producer.flush()"
   ]
  },
  {
   "cell_type": "code",
   "execution_count": 76,
   "metadata": {
    "cell_id": "987c055ee913467a89e60c746757cc76",
    "deepnote_cell_height": 75.60000610351562,
    "deepnote_cell_type": "code",
    "deepnote_to_be_reexecuted": false,
    "execution_millis": 0,
    "execution_start": 1659682482348,
    "source_hash": "5a12dabd",
    "tags": []
   },
   "outputs": [],
   "source": [
    "instances = apiResult['Siri']['ServiceDelivery']['VehicleMonitoringDelivery'][0]['VehicleActivity']"
   ]
  },
  {
   "cell_type": "code",
   "execution_count": 77,
   "metadata": {
    "cell_id": "48244b8f49194a478804e9e081a2708e",
    "deepnote_cell_height": 129.60000610351562,
    "deepnote_cell_type": "code",
    "deepnote_to_be_reexecuted": false,
    "execution_millis": 3,
    "execution_start": 1659683117072,
    "source_hash": "2d43b033",
    "tags": []
   },
   "outputs": [],
   "source": [
    "def value(d, k):\n",
    "    if k in d:\n",
    "        return d[k]\n",
    "    return None"
   ]
  },
  {
   "cell_type": "code",
   "execution_count": 78,
   "metadata": {
    "cell_id": "e3a3edc163a44ebc8f8592f36348e121",
    "deepnote_cell_height": 512.5999755859375,
    "deepnote_cell_type": "code",
    "deepnote_to_be_reexecuted": false,
    "execution_millis": 10,
    "execution_start": 1659682987107,
    "source_hash": "9b926ee6",
    "tags": []
   },
   "outputs": [],
   "source": [
    "def actively_moving(df):\n",
    "\n",
    "    df_moving = df[['OperatorRef', 'VehicleRef', 'VehicleAtStop']].drop_duplicates().reset_index(drop=True)\n",
    "    df_moving = df[df['VehicleAtStop'] == False]['OperatorRef', 'VehicleRef']\n",
    "    df_moving = df_moving.group_by('OperatorRef').count()\n",
    "\n",
    "    return df_moving \n",
    "\n",
    "def positions(df):\n",
    "\n",
    "    df_positions = df[['VehicleRef','RecordedAtTime', 'VehicleLocation']].sort_values(by=['VehicleRef', 'RecordedAtTime']).reset_index(drop=True)\n",
    "\n",
    "    return df_positions\n",
    "\n",
    "def delayed(df):\n",
    "\n",
    "    df_delayed = df[['VehicleRef', 'ArrivalStatus']]\n",
    "    # add information you want to include in alert above\n",
    "\n",
    "    df_delayed = df[df['ArrivalStatus'] != 'ON_TIME']\n",
    "    df = df.drop('ArrivalStatus', axis=1)\n",
    "\n",
    "    return df_delayed \n",
    "\n"
   ]
  },
  {
   "cell_type": "code",
   "execution_count": 79,
   "metadata": {
    "cell_id": "fa4daa1717f2490b90c2a171cc2ad44e",
    "deepnote_cell_height": 957.5999755859375,
    "deepnote_cell_type": "code",
    "deepnote_to_be_reexecuted": false,
    "execution_millis": 2,
    "execution_start": 1659683652505,
    "source_hash": "c3183f86",
    "tags": []
   },
   "outputs": [
    {
     "name": "stdout",
     "output_type": "stream",
     "text": [
      "Message produced: <cimpl.Message object at 0x07730710>\n",
      "Message produced: <cimpl.Message object at 0x07730088>\n",
      "Message produced: <cimpl.Message object at 0x07730088>\n",
      "Message produced: <cimpl.Message object at 0x07730088>\n",
      "Message produced: <cimpl.Message object at 0x07730088>\n",
      "Message produced: <cimpl.Message object at 0x07733B88>\n",
      "Message produced: <cimpl.Message object at 0x07730088>\n",
      "Message produced: <cimpl.Message object at 0x07730088>\n",
      "Message produced: <cimpl.Message object at 0x07730088>\n",
      "Message produced: <cimpl.Message object at 0x07730088>\n",
      "Message produced: <cimpl.Message object at 0x07730088>\n",
      "Message produced: <cimpl.Message object at 0x077309D0>\n",
      "Message produced: <cimpl.Message object at 0x077309D0>\n",
      "Message produced: <cimpl.Message object at 0x077309D0>\n",
      "Message produced: <cimpl.Message object at 0x077309D0>\n",
      "Message produced: <cimpl.Message object at 0x07730768>\n",
      "Message produced: <cimpl.Message object at 0x077309D0>\n",
      "Message produced: <cimpl.Message object at 0x077309D0>\n",
      "Message produced: <cimpl.Message object at 0x077309D0>\n",
      "Message produced: <cimpl.Message object at 0x077309D0>\n",
      "Message produced: <cimpl.Message object at 0x07730710>\n",
      "Message produced: <cimpl.Message object at 0x077309D0>\n",
      "Message produced: <cimpl.Message object at 0x077309D0>\n",
      "Message produced: <cimpl.Message object at 0x077309D0>\n",
      "Message produced: <cimpl.Message object at 0x077306B8>\n",
      "Message produced: <cimpl.Message object at 0x077309D0>\n",
      "Message produced: <cimpl.Message object at 0x07733B88>\n",
      "Message produced: <cimpl.Message object at 0x077309D0>\n",
      "Message produced: <cimpl.Message object at 0x07730088>\n",
      "Message produced: <cimpl.Message object at 0x077309D0>\n",
      "Message produced: <cimpl.Message object at 0x077309D0>\n",
      "Message produced: <cimpl.Message object at 0x077309D0>\n",
      "Message produced: <cimpl.Message object at 0x077309D0>\n",
      "Message produced: <cimpl.Message object at 0x07730768>\n",
      "Message produced: <cimpl.Message object at 0x077309D0>\n",
      "Message produced: <cimpl.Message object at 0x077309D0>\n",
      "Message produced: <cimpl.Message object at 0x077309D0>\n",
      "Message produced: <cimpl.Message object at 0x07733608>\n",
      "Message produced: <cimpl.Message object at 0x077309D0>\n",
      "Message produced: <cimpl.Message object at 0x077309D0>\n",
      "Message produced: <cimpl.Message object at 0x077309D0>\n",
      "Message produced: <cimpl.Message object at 0x077309D0>\n",
      "Message produced: <cimpl.Message object at 0x07730710>\n",
      "Message produced: <cimpl.Message object at 0x077309D0>\n",
      "Message produced: <cimpl.Message object at 0x077309D0>\n",
      "Message produced: <cimpl.Message object at 0x077309D0>\n",
      "Message produced: <cimpl.Message object at 0x077309D0>\n",
      "Message produced: <cimpl.Message object at 0x07191978>\n",
      "Message produced: <cimpl.Message object at 0x077309D0>\n",
      "Message produced: <cimpl.Message object at 0x077308C8>\n",
      "Message produced: <cimpl.Message object at 0x077308C8>\n",
      "Message produced: <cimpl.Message object at 0x07730088>\n",
      "Message produced: <cimpl.Message object at 0x077308C8>\n",
      "Message produced: <cimpl.Message object at 0x077308C8>\n",
      "Message produced: <cimpl.Message object at 0x077308C8>\n",
      "Message produced: <cimpl.Message object at 0x07730768>\n",
      "Message produced: <cimpl.Message object at 0x077308C8>\n",
      "Message produced: <cimpl.Message object at 0x077308C8>\n",
      "Message produced: <cimpl.Message object at 0x077308C8>\n",
      "Message produced: <cimpl.Message object at 0x077308C8>\n",
      "Message produced: <cimpl.Message object at 0x07733B88>\n",
      "Message produced: <cimpl.Message object at 0x07730768>\n",
      "Message produced: <cimpl.Message object at 0x07730768>\n",
      "Message produced: <cimpl.Message object at 0x07730768>\n",
      "Message produced: <cimpl.Message object at 0x07730768>\n",
      "Message produced: <cimpl.Message object at 0x07730768>\n",
      "Message produced: <cimpl.Message object at 0x077308C8>\n",
      "Message produced: <cimpl.Message object at 0x07730768>\n",
      "Message produced: <cimpl.Message object at 0x07730768>\n",
      "Message produced: <cimpl.Message object at 0x07730768>\n",
      "Message produced: <cimpl.Message object at 0x07730768>\n",
      "Message produced: <cimpl.Message object at 0x077309D0>\n",
      "Message produced: <cimpl.Message object at 0x07730768>\n",
      "Message produced: <cimpl.Message object at 0x07730768>\n",
      "Message produced: <cimpl.Message object at 0x07730768>\n",
      "Message produced: <cimpl.Message object at 0x07733608>\n",
      "Message produced: <cimpl.Message object at 0x07730768>\n",
      "Message produced: <cimpl.Message object at 0x07730768>\n",
      "Message produced: <cimpl.Message object at 0x07730768>\n",
      "Message produced: <cimpl.Message object at 0x07730768>\n",
      "Message produced: <cimpl.Message object at 0x07730710>\n",
      "Message produced: <cimpl.Message object at 0x07730768>\n",
      "Message produced: <cimpl.Message object at 0x07730768>\n",
      "Message produced: <cimpl.Message object at 0x07730768>\n",
      "Message produced: <cimpl.Message object at 0x07730088>\n",
      "Message produced: <cimpl.Message object at 0x07730768>\n",
      "Message produced: <cimpl.Message object at 0x077308C8>\n",
      "Message produced: <cimpl.Message object at 0x07730768>\n",
      "Message produced: <cimpl.Message object at 0x07730768>\n",
      "Message produced: <cimpl.Message object at 0x07730768>\n",
      "Message produced: <cimpl.Message object at 0x07733B88>\n",
      "Message produced: <cimpl.Message object at 0x07730768>\n",
      "Message produced: <cimpl.Message object at 0x07730768>\n",
      "Message produced: <cimpl.Message object at 0x07733608>\n",
      "Message produced: <cimpl.Message object at 0x07730768>\n",
      "Message produced: <cimpl.Message object at 0x07730768>\n",
      "Message produced: <cimpl.Message object at 0x07730768>\n",
      "Message produced: <cimpl.Message object at 0x07730768>\n",
      "Message produced: <cimpl.Message object at 0x077309D0>\n",
      "Message produced: <cimpl.Message object at 0x07730768>\n"
     ]
    }
   ],
   "source": [
    "def check_ArrivalStatus(val):\n",
    "    if val != None:\n",
    "        if len(val['OnwardCall']) > 1:\n",
    "            val = value(val['OnwardCall'][0], 'ArrivalStatus')\n",
    "    return val\n",
    "\n",
    "def check_VehicleAtStop(val):\n",
    "    if val != None:\n",
    "        val = value(val, 'VehicleAtStop')\n",
    "\n",
    "    return val\n",
    "\n",
    "\n",
    "for instance in instances:   \n",
    "\n",
    "    output = {\"RecordedAtTime\": value(instance, 'RecordedAtTime'),\n",
    "                \"VehicleMode\": value(instance['MonitoredVehicleJourney'],'VehicleMode'),\n",
    "                \"OperatorRef\": value(instance['MonitoredVehicleJourney'],'OperatorRef'),\n",
    "                \"VehicleLocation\": value(instance['MonitoredVehicleJourney'],'VehicleLocation'),\n",
    "                \"VehicleRef\": value(instance['MonitoredVehicleJourney'],'VehicleRef'),\n",
    "                \"ArrivalStatus\": value(instance['MonitoredVehicleJourney'], 'OnwardCalls'),\n",
    "                \"VehicleAtStop\": value(instance['MonitoredVehicleJourney'], 'MonitoredCall')\n",
    "    }\n",
    "\n",
    "    output['ArrivalStatus'] = check_ArrivalStatus(output['ArrivalStatus'])\n",
    "    output['VehicleAtStop'] = check_VehicleAtStop(output['VehicleAtStop'])\n",
    "    \n",
    "\n",
    "    if output['VehicleMode'] != None:\n",
    "        output['VehicleMode'] = output['VehicleMode'][0]\n",
    "\n",
    "    if output['VehicleRef'] != None:\n",
    "        output['VehicleRef'] = output['VehicleRef']['value']\n",
    "\n",
    "    if output['OperatorRef'] != None:\n",
    "        output['OperatorRef'] = output['OperatorRef']['value']\n",
    "\n",
    "    if output['VehicleLocation'] != None:\n",
    "        output['VehicleLatitude'] = output['VehicleLocation']['Latitude']\n",
    "        output['VehicleLongitude'] = output['VehicleLocation']['Longitude'] \n",
    "    \n",
    "    else:\n",
    "        output['VehicleLatitude'] = None \n",
    "        output['VehicleLongitude'] = None \n",
    "\n",
    "            \n",
    "    del output['VehicleLocation']\n",
    "        \n",
    "\n",
    "    produce_events(json.dumps(output))"
   ]
  },
  {
   "cell_type": "code",
   "execution_count": 80,
   "metadata": {
    "cell_id": "3c656a6903044fb788ec19a4fa46fa2c",
    "deepnote_cell_height": 303.3999938964844,
    "deepnote_cell_type": "code",
    "deepnote_output_heights": [
     194
    ],
    "deepnote_to_be_reexecuted": false,
    "execution_millis": 558,
    "execution_start": 1659683654781,
    "source_hash": "ef7c17e5",
    "tags": []
   },
   "outputs": [
    {
     "data": {
      "text/plain": [
       "{'RecordedAtTime': '2022-08-05T11:01:32+02:00',\n",
       " 'VehicleMode': 'BUS',\n",
       " 'OperatorRef': 'SKY:Operator:45',\n",
       " 'VehicleRef': '3350453154',\n",
       " 'ArrivalStatus': None,\n",
       " 'VehicleAtStop': False,\n",
       " 'VehicleLatitude': 60.4055900964886,\n",
       " 'VehicleLongitude': 5.32819362357259}"
      ]
     },
     "execution_count": 80,
     "metadata": {},
     "output_type": "execute_result"
    }
   ],
   "source": [
    "output\n"
   ]
  },
  {
   "cell_type": "code",
   "execution_count": null,
   "metadata": {
    "cell_id": "8dcd1599eb0c4de48cbd2c1511e1b627",
    "deepnote_cell_height": 75.60000610351562,
    "deepnote_cell_type": "code",
    "deepnote_to_be_reexecuted": false,
    "execution_millis": 1,
    "execution_start": 1659682482392,
    "source_hash": "b623e53d",
    "tags": []
   },
   "outputs": [],
   "source": []
  },
  {
   "cell_type": "markdown",
   "metadata": {
    "created_in_deepnote_cell": true,
    "deepnote_cell_type": "markdown",
    "tags": []
   },
   "source": [
    "<a style='text-decoration:none;line-height:16px;display:flex;color:#5B5B62;padding:10px;justify-content:end;' href='https://deepnote.com?utm_source=created-in-deepnote-cell&projectId=abab48c6-a312-48d3-9d85-4f43cbfe0e3c' target=\"_blank\">\n",
    "<img alt='Created in deepnote.com' style='display:inline;max-height:16px;margin:0px;margin-right:7.5px;' src='data:image/svg+xml;base64,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' > </img>\n",
    "Created in <span style='font-weight:600;margin-left:4px;'>Deepnote</span></a>"
   ]
  }
 ],
 "metadata": {
  "deepnote": {},
  "deepnote_execution_queue": [],
  "deepnote_notebook_id": "fa60ebe6-6e42-4003-a6cb-c67503343ad0",
  "language_info": {
   "name": "python"
  },
  "orig_nbformat": 2
 },
 "nbformat": 4,
 "nbformat_minor": 2
}
