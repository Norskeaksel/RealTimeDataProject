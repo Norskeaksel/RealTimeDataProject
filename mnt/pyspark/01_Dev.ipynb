{
 "cells": [
  {
   "cell_type": "code",
   "execution_count": 1,
   "id": "4d9faeb2-7134-4558-85bd-adfc1e50de2a",
   "metadata": {},
   "outputs": [],
   "source": [
    "from pyspark.sql import SparkSession\n",
    "\n",
    "spark = (SparkSession.builder.getOrCreate())"
   ]
  },
  {
   "cell_type": "code",
   "execution_count": 3,
   "id": "8cde55d5-b089-432d-9226-ba31110feb64",
   "metadata": {},
   "outputs": [
    {
     "name": "stdout",
     "output_type": "stream",
     "text": [
      "+----+--------------------+---------------+---------+------+--------------------+-------------+\n",
      "| key|               value|          topic|partition|offset|           timestamp|timestampType|\n",
      "+----+--------------------+---------------+---------+------+--------------------+-------------+\n",
      "|null|[7B 22 52 65 63 6...|AwsomeTopicName|        2|     8|2022-08-04 12:51:...|            0|\n",
      "|null|[7B 22 52 65 63 6...|AwsomeTopicName|        2|     7|2022-08-04 12:51:...|            0|\n",
      "|null|[7B 22 52 65 63 6...|AwsomeTopicName|        2|     6|2022-08-04 12:49:...|            0|\n",
      "|null|[7B 22 52 65 63 6...|AwsomeTopicName|        2|     5|2022-08-04 12:49:...|            0|\n",
      "|null|[7B 22 52 65 63 6...|AwsomeTopicName|        2|     4|2022-08-04 12:49:...|            0|\n",
      "|null|[7B 22 52 65 63 6...|AwsomeTopicName|        2|     3|2022-08-04 12:48:...|            0|\n",
      "|null|[7B 22 52 65 63 6...|AwsomeTopicName|        2|     2|2022-08-04 12:47:...|            0|\n",
      "|null|[5B 7B 27 56 61 6...|AwsomeTopicName|        2|     1|2022-08-04 12:45:...|            0|\n",
      "|null|[7B 22 52 65 63 6...|AwsomeTopicName|        2|     0|2022-08-04 12:45:...|            0|\n",
      "+----+--------------------+---------------+---------+------+--------------------+-------------+\n",
      "\n"
     ]
    }
   ],
   "source": [
    "import pyspark.sql.functions as F\n",
    "\n",
    "spark.read.parquet(\"output/AwsomeAPIRecords.parquet\").orderBy(F.desc(\"timestamp\")).show()\n",
    "\n",
    "#key - partitioning key\n",
    "#value - the data, in binary format. This is our JSON payload. We'll need to cast it to STRING.\n",
    "#topic - the topic we are subscribing to\n",
    "#partition \n",
    "#offset - the offset value. This is per topic, partition, and consumer group\n",
    "#timestamp - the timestamp\n",
    "#timestampType - whether timestamp is created time or log append time (by default created time)"
   ]
  },
  {
   "cell_type": "code",
   "execution_count": 7,
   "id": "a89ff8be-ceba-4813-a649-ce7de9485afd",
   "metadata": {},
   "outputs": [],
   "source": [
    "spark.read.parquet(\"output/AwsomeAPIRecords.parquet/*.parquet\").createOrReplaceTempView(\"vw_AwsomeAPIRecords\")"
   ]
  },
  {
   "cell_type": "code",
   "execution_count": 8,
   "id": "cd724b78-179b-4213-80bf-2cfc460bc5d6",
   "metadata": {},
   "outputs": [
    {
     "name": "stdout",
     "output_type": "stream",
     "text": [
      "+----+--------------------+---------------+---------+------+--------------------+-------------+\n",
      "| key|               value|          topic|partition|offset|           timestamp|timestampType|\n",
      "+----+--------------------+---------------+---------+------+--------------------+-------------+\n",
      "|null|[7B 22 52 65 63 6...|AwsomeTopicName|        2|     8|2022-08-04 12:51:...|            0|\n",
      "|null|[7B 22 52 65 63 6...|AwsomeTopicName|        2|     7|2022-08-04 12:51:...|            0|\n",
      "|null|[7B 22 52 65 63 6...|AwsomeTopicName|        2|     6|2022-08-04 12:49:...|            0|\n",
      "|null|[7B 22 52 65 63 6...|AwsomeTopicName|        2|     5|2022-08-04 12:49:...|            0|\n",
      "|null|[7B 22 52 65 63 6...|AwsomeTopicName|        2|     4|2022-08-04 12:49:...|            0|\n",
      "|null|[7B 22 52 65 63 6...|AwsomeTopicName|        2|     3|2022-08-04 12:48:...|            0|\n",
      "|null|[7B 22 52 65 63 6...|AwsomeTopicName|        2|     2|2022-08-04 12:47:...|            0|\n",
      "|null|[5B 7B 27 56 61 6...|AwsomeTopicName|        2|     1|2022-08-04 12:45:...|            0|\n",
      "|null|[7B 22 52 65 63 6...|AwsomeTopicName|        2|     0|2022-08-04 12:45:...|            0|\n",
      "+----+--------------------+---------------+---------+------+--------------------+-------------+\n",
      "\n"
     ]
    }
   ],
   "source": [
    "spark.sql(\"SELECT * FROM vw_AwsomeAPIRecords ORDER BY offset desc\").show()"
   ]
  },
  {
   "cell_type": "code",
   "execution_count": 9,
   "id": "e900fe09-d195-4734-9709-d42f426d30fc",
   "metadata": {},
   "outputs": [
    {
     "name": "stdout",
     "output_type": "stream",
     "text": [
      "+----+--------------------------------------------------+-----------------------+\n",
      "| key|                                             value|                     ts|\n",
      "+----+--------------------------------------------------+-----------------------+\n",
      "|null|{\"RecordedAtTime\": \"2022-08-04T14:31:40.864+02:...|2022-08-04 12:45:51.122|\n",
      "|null|[{'ValidUntilTime': '2022-08-04T14:40:00+02:00'...|2022-08-04 12:45:56.467|\n",
      "|null|{\"RecordedAtTime\": \"2022-08-04T14:31:40.864+02:...|2022-08-04 12:47:14.896|\n",
      "|null|{\"RecordedAtTime\": \"2022-08-04T14:31:40.864+02:...|2022-08-04 12:48:37.007|\n",
      "|null|{\"RecordedAtTime\": \"2022-08-04T14:31:40.864+02:...|2022-08-04 12:49:03.472|\n",
      "|null|{\"RecordedAtTime\": \"2022-08-04T14:31:40.864+02:...|2022-08-04 12:49:30.167|\n",
      "|null|{\"RecordedAtTime\": \"2022-08-04T14:47:50.474+02:...|2022-08-04 12:49:30.245|\n",
      "|null|{\"RecordedAtTime\": \"2022-08-04T14:50:11.919+02:...|2022-08-04 12:51:15.274|\n",
      "|null|{\"RecordedAtTime\": \"2022-08-04T14:41:04.665+02:...|2022-08-04 12:51:15.318|\n",
      "+----+--------------------------------------------------+-----------------------+\n",
      "\n"
     ]
    }
   ],
   "source": [
    "spark.sql(\"SELECT CAST(key AS STRING) key, CAST(value AS STRING) value, timestamp AS ts FROM vw_AwsomeAPIRecords\").show(20, 50)"
   ]
  },
  {
   "cell_type": "code",
   "execution_count": null,
   "id": "337e8ec5-ff57-479d-b73b-212f8f2b1b7c",
   "metadata": {},
   "outputs": [],
   "source": [
    "json_schema = \"\"\"\n",
    "STRUCT<gender: STRING,\n",
    "name: STRUCT<title: STRING,\n",
    "            first: STRING,\n",
    "            last: STRING>,\n",
    "location: STRUCT<street: STRUCT<number: INT,\n",
    "                                name: STRING>,\n",
    "                 city: STRING,\n",
    "                state: STRING,\n",
    "                country: STRING,\n",
    "                postcode: INT,\n",
    "                coordinates: STRUCT<latitude: STRING,\n",
    "                                    longitude: STRING>,\n",
    "                timezone: STRUCT<offset: STRING,\n",
    "                                description: STRING>\n",
    "                >,\n",
    "email: STRING,\n",
    "login: STRUCT< uuid: STRING,\n",
    "            username: STRING,\n",
    "            password: STRING,\n",
    "            salt: STRING,\n",
    "            md5: STRING,\n",
    "            sha1: STRING,\n",
    "            sha256: STRING>,\n",
    "dob: STRUCT<date: STRING,\n",
    "            age: INT>,\n",
    "registered: STRUCT<date: STRING,\n",
    "                    age: INT>,\n",
    "phone: STRING,\n",
    "cell: STRING,\n",
    "id: STRUCT<name: STRING,\n",
    "            value: STRING>,\n",
    "picture: STRUCT<large: STRING,\n",
    "                medium: STRING,\n",
    "                thumbnail: STRING>,\n",
    "nat: STRING,\n",
    "timestamp: STRING>\n",
    "\"\"\""
   ]
  },
  {
   "cell_type": "code",
   "execution_count": null,
   "id": "a00d259d-1261-44c4-89f2-210347d5f4a4",
   "metadata": {},
   "outputs": [],
   "source": [
    "spark.sql(f\"\"\"\n",
    "SELECT ts, json.* FROM (\n",
    "SELECT FROM_JSON(CAST(value AS STRING),'{json_schema}') AS json,\n",
    "timestamp as ts\n",
    "FROM vw_kafka_0 \n",
    "WHERE offset > 30\n",
    ")\n",
    "\"\"\").show()"
   ]
  }
 ],
 "metadata": {
  "kernelspec": {
   "display_name": "Python 3 (ipykernel)",
   "language": "python",
   "name": "python3"
  },
  "language_info": {
   "codemirror_mode": {
    "name": "ipython",
    "version": 3
   },
   "file_extension": ".py",
   "mimetype": "text/x-python",
   "name": "python",
   "nbconvert_exporter": "python",
   "pygments_lexer": "ipython3",
   "version": "3.10.5"
  },
  "vscode": {
   "interpreter": {
    "hash": "0e2f12018b3e0accc8ab8e758aca4e2dec0530acaa30d9457f487afb9e807e5a"
   }
  }
 },
 "nbformat": 4,
 "nbformat_minor": 5
}
