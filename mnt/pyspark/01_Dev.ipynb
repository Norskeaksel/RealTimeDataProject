{
 "cells": [
  {
   "cell_type": "code",
   "execution_count": 1,
   "id": "4d9faeb2-7134-4558-85bd-adfc1e50de2a",
   "metadata": {},
   "outputs": [],
   "source": [
    "from pyspark.sql import SparkSession\n",
    "\n",
    "spark = (SparkSession.builder.getOrCreate())"
   ]
  },
  {
   "cell_type": "code",
   "execution_count": 2,
   "id": "8cde55d5-b089-432d-9226-ba31110feb64",
   "metadata": {},
   "outputs": [
    {
     "name": "stdout",
     "output_type": "stream",
     "text": [
      "+----+--------------------+---------------+---------+------+--------------------+-------------+\n",
      "| key|               value|          topic|partition|offset|           timestamp|timestampType|\n",
      "+----+--------------------+---------------+---------+------+--------------------+-------------+\n",
      "|null|[7B 22 52 65 63 6...|AwsomeTopicName|        2|     8|2022-08-04 12:51:...|            0|\n",
      "|null|[7B 22 52 65 63 6...|AwsomeTopicName|        2|     7|2022-08-04 12:51:...|            0|\n",
      "|null|[7B 22 52 65 63 6...|AwsomeTopicName|        2|     6|2022-08-04 12:49:...|            0|\n",
      "|null|[7B 22 52 65 63 6...|AwsomeTopicName|        2|     5|2022-08-04 12:49:...|            0|\n",
      "|null|[7B 22 52 65 63 6...|AwsomeTopicName|        2|     4|2022-08-04 12:49:...|            0|\n",
      "|null|[7B 22 52 65 63 6...|AwsomeTopicName|        2|     3|2022-08-04 12:48:...|            0|\n",
      "|null|[7B 22 52 65 63 6...|AwsomeTopicName|        2|     2|2022-08-04 12:47:...|            0|\n",
      "|null|[5B 7B 27 56 61 6...|AwsomeTopicName|        2|     1|2022-08-04 12:45:...|            0|\n",
      "|null|[7B 22 52 65 63 6...|AwsomeTopicName|        2|     0|2022-08-04 12:45:...|            0|\n",
      "+----+--------------------+---------------+---------+------+--------------------+-------------+\n",
      "\n"
     ]
    }
   ],
   "source": [
    "import pyspark.sql.functions as F\n",
    "\n",
    "spark.read.parquet(\"output/AwsomeAPIRecords.parquet\").orderBy(F.desc(\"timestamp\")).show()\n",
    "\n",
    "#key - partitioning key\n",
    "#value - the data, in binary format. This is our JSON payload. We'll need to cast it to STRING.\n",
    "#topic - the topic we are subscribing to\n",
    "#partition \n",
    "#offset - the offset value. This is per topic, partition, and consumer group\n",
    "#timestamp - the timestamp\n",
    "#timestampType - whether timestamp is created time or log append time (by default created time)"
   ]
  },
  {
   "cell_type": "code",
   "execution_count": 3,
   "id": "a89ff8be-ceba-4813-a649-ce7de9485afd",
   "metadata": {},
   "outputs": [],
   "source": [
    "spark.read.parquet(\"output/AwsomeAPIRecords.parquet/*.parquet\").createOrReplaceTempView(\"vw_AwsomeAPIRecords\")"
   ]
  },
  {
   "cell_type": "code",
   "execution_count": 4,
   "id": "cd724b78-179b-4213-80bf-2cfc460bc5d6",
   "metadata": {},
   "outputs": [
    {
     "name": "stdout",
     "output_type": "stream",
     "text": [
      "+----+--------------------+---------------+---------+------+--------------------+-------------+\n",
      "| key|               value|          topic|partition|offset|           timestamp|timestampType|\n",
      "+----+--------------------+---------------+---------+------+--------------------+-------------+\n",
      "|null|[7B 22 52 65 63 6...|AwsomeTopicName|        2|     8|2022-08-04 12:51:...|            0|\n",
      "|null|[7B 22 52 65 63 6...|AwsomeTopicName|        2|     7|2022-08-04 12:51:...|            0|\n",
      "|null|[7B 22 52 65 63 6...|AwsomeTopicName|        2|     6|2022-08-04 12:49:...|            0|\n",
      "|null|[7B 22 52 65 63 6...|AwsomeTopicName|        2|     5|2022-08-04 12:49:...|            0|\n",
      "|null|[7B 22 52 65 63 6...|AwsomeTopicName|        2|     4|2022-08-04 12:49:...|            0|\n",
      "|null|[7B 22 52 65 63 6...|AwsomeTopicName|        2|     3|2022-08-04 12:48:...|            0|\n",
      "|null|[7B 22 52 65 63 6...|AwsomeTopicName|        2|     2|2022-08-04 12:47:...|            0|\n",
      "|null|[5B 7B 27 56 61 6...|AwsomeTopicName|        2|     1|2022-08-04 12:45:...|            0|\n",
      "|null|[7B 22 52 65 63 6...|AwsomeTopicName|        2|     0|2022-08-04 12:45:...|            0|\n",
      "+----+--------------------+---------------+---------+------+--------------------+-------------+\n",
      "\n"
     ]
    }
   ],
   "source": [
    "spark.sql(\"SELECT * FROM vw_AwsomeAPIRecords ORDER BY offset desc\").show()"
   ]
  },
  {
   "cell_type": "code",
   "execution_count": 5,
   "id": "e900fe09-d195-4734-9709-d42f426d30fc",
   "metadata": {},
   "outputs": [
    {
     "name": "stdout",
     "output_type": "stream",
     "text": [
      "+----+--------------------------------------------------+-----------------------+\n",
      "| key|                                             value|                     ts|\n",
      "+----+--------------------------------------------------+-----------------------+\n",
      "|null|{\"RecordedAtTime\": \"2022-08-04T14:31:40.864+02:...|2022-08-04 12:45:51.122|\n",
      "|null|[{'ValidUntilTime': '2022-08-04T14:40:00+02:00'...|2022-08-04 12:45:56.467|\n",
      "|null|{\"RecordedAtTime\": \"2022-08-04T14:31:40.864+02:...|2022-08-04 12:47:14.896|\n",
      "|null|{\"RecordedAtTime\": \"2022-08-04T14:31:40.864+02:...|2022-08-04 12:48:37.007|\n",
      "|null|{\"RecordedAtTime\": \"2022-08-04T14:31:40.864+02:...|2022-08-04 12:49:03.472|\n",
      "|null|{\"RecordedAtTime\": \"2022-08-04T14:31:40.864+02:...|2022-08-04 12:49:30.167|\n",
      "|null|{\"RecordedAtTime\": \"2022-08-04T14:47:50.474+02:...|2022-08-04 12:49:30.245|\n",
      "|null|{\"RecordedAtTime\": \"2022-08-04T14:50:11.919+02:...|2022-08-04 12:51:15.274|\n",
      "|null|{\"RecordedAtTime\": \"2022-08-04T14:41:04.665+02:...|2022-08-04 12:51:15.318|\n",
      "+----+--------------------------------------------------+-----------------------+\n",
      "\n"
     ]
    }
   ],
   "source": [
    "spark.sql(\"SELECT CAST(key AS STRING) key, CAST(value AS STRING) value, timestamp AS ts FROM vw_AwsomeAPIRecords\").show(20, 50)"
   ]
  },
  {
   "cell_type": "code",
   "execution_count": 6,
   "id": "337e8ec5-ff57-479d-b73b-212f8f2b1b7c",
   "metadata": {},
   "outputs": [],
   "source": [
    "json_schema = \"\"\"\n",
    "STRUCT<gender: STRING,\n",
    "name: STRUCT<title: STRING,\n",
    "            first: STRING,\n",
    "            last: STRING>,\n",
    "location: STRUCT<street: STRUCT<number: INT,\n",
    "                                name: STRING>,\n",
    "                 city: STRING,\n",
    "                state: STRING,\n",
    "                country: STRING,\n",
    "                postcode: INT,\n",
    "                coordinates: STRUCT<latitude: STRING,\n",
    "                                    longitude: STRING>,\n",
    "                timezone: STRUCT<offset: STRING,\n",
    "                                description: STRING>\n",
    "                >,\n",
    "email: STRING,\n",
    "login: STRUCT< uuid: STRING,\n",
    "            username: STRING,\n",
    "            password: STRING,\n",
    "            salt: STRING,\n",
    "            md5: STRING,\n",
    "            sha1: STRING,\n",
    "            sha256: STRING>,\n",
    "dob: STRUCT<date: STRING,\n",
    "            age: INT>,\n",
    "registered: STRUCT<date: STRING,\n",
    "                    age: INT>,\n",
    "phone: STRING,\n",
    "cell: STRING,\n",
    "id: STRUCT<name: STRING,\n",
    "            value: STRING>,\n",
    "picture: STRUCT<large: STRING,\n",
    "                medium: STRING,\n",
    "                thumbnail: STRING>,\n",
    "nat: STRING,\n",
    "timestamp: STRING>\n",
    "\"\"\""
   ]
  },
  {
   "cell_type": "code",
   "execution_count": 7,
   "id": "a00d259d-1261-44c4-89f2-210347d5f4a4",
   "metadata": {},
   "outputs": [
    {
     "ename": "AnalysisException",
     "evalue": "Table or view not found: vw_kafka_0; line 42 pos 5;\n'Project ['ts, ArrayBuffer(json).*]\n+- 'SubqueryAlias __auto_generated_subquery_name\n   +- 'Project ['FROM_JSON(cast('value as string), \nSTRUCT<gender: STRING,\nname: STRUCT<title: STRING,\n            first: STRING,\n            last: STRING>,\nlocation: STRUCT<street: STRUCT<number: INT,\n                                name: STRING>,\n                 city: STRING,\n                state: STRING,\n                country: STRING,\n                postcode: INT,\n                coordinates: STRUCT<latitude: STRING,\n                                    longitude: STRING>,\n                timezone: STRUCT<offset: STRING,\n                                description: STRING>\n                >,\nemail: STRING,\nlogin: STRUCT< uuid: STRING,\n            username: STRING,\n            password: STRING,\n            salt: STRING,\n            md5: STRING,\n            sha1: STRING,\n            sha256: STRING>,\ndob: STRUCT<date: STRING,\n            age: INT>,\nregistered: STRUCT<date: STRING,\n                    age: INT>,\nphone: STRING,\ncell: STRING,\nid: STRUCT<name: STRING,\n            value: STRING>,\npicture: STRUCT<large: STRING,\n                medium: STRING,\n                thumbnail: STRING>,\nnat: STRING,\ntimestamp: STRING>\n) AS json#109, 'timestamp AS ts#110]\n      +- 'Filter ('offset > 30)\n         +- 'UnresolvedRelation [vw_kafka_0], [], false\n",
     "output_type": "error",
     "traceback": [
      "\u001b[0;31m---------------------------------------------------------------------------\u001b[0m",
      "\u001b[0;31mAnalysisException\u001b[0m                         Traceback (most recent call last)",
      "Input \u001b[0;32mIn [7]\u001b[0m, in \u001b[0;36m<cell line: 1>\u001b[0;34m()\u001b[0m\n\u001b[0;32m----> 1\u001b[0m \u001b[43mspark\u001b[49m\u001b[38;5;241;43m.\u001b[39;49m\u001b[43msql\u001b[49m\u001b[43m(\u001b[49m\u001b[38;5;124;43mf\u001b[39;49m\u001b[38;5;124;43m\"\"\"\u001b[39;49m\n\u001b[1;32m      2\u001b[0m \u001b[38;5;124;43mSELECT ts, json.* FROM (\u001b[39;49m\n\u001b[1;32m      3\u001b[0m \u001b[38;5;124;43mSELECT FROM_JSON(CAST(value AS STRING),\u001b[39;49m\u001b[38;5;124;43m'\u001b[39;49m\u001b[38;5;132;43;01m{\u001b[39;49;00m\u001b[43mjson_schema\u001b[49m\u001b[38;5;132;43;01m}\u001b[39;49;00m\u001b[38;5;124;43m'\u001b[39;49m\u001b[38;5;124;43m) AS json,\u001b[39;49m\n\u001b[1;32m      4\u001b[0m \u001b[38;5;124;43mtimestamp as ts\u001b[39;49m\n\u001b[1;32m      5\u001b[0m \u001b[38;5;124;43mFROM vw_kafka_0 \u001b[39;49m\n\u001b[1;32m      6\u001b[0m \u001b[38;5;124;43mWHERE offset > 30\u001b[39;49m\n\u001b[1;32m      7\u001b[0m \u001b[38;5;124;43m)\u001b[39;49m\n\u001b[1;32m      8\u001b[0m \u001b[38;5;124;43m\"\"\"\u001b[39;49m\u001b[43m)\u001b[49m\u001b[38;5;241m.\u001b[39mshow()\n",
      "File \u001b[0;32m/usr/local/spark/python/pyspark/sql/session.py:1034\u001b[0m, in \u001b[0;36mSparkSession.sql\u001b[0;34m(self, sqlQuery, **kwargs)\u001b[0m\n\u001b[1;32m   1032\u001b[0m     sqlQuery \u001b[38;5;241m=\u001b[39m formatter\u001b[38;5;241m.\u001b[39mformat(sqlQuery, \u001b[38;5;241m*\u001b[39m\u001b[38;5;241m*\u001b[39mkwargs)\n\u001b[1;32m   1033\u001b[0m \u001b[38;5;28;01mtry\u001b[39;00m:\n\u001b[0;32m-> 1034\u001b[0m     \u001b[38;5;28;01mreturn\u001b[39;00m DataFrame(\u001b[38;5;28;43mself\u001b[39;49m\u001b[38;5;241;43m.\u001b[39;49m\u001b[43m_jsparkSession\u001b[49m\u001b[38;5;241;43m.\u001b[39;49m\u001b[43msql\u001b[49m\u001b[43m(\u001b[49m\u001b[43msqlQuery\u001b[49m\u001b[43m)\u001b[49m, \u001b[38;5;28mself\u001b[39m)\n\u001b[1;32m   1035\u001b[0m \u001b[38;5;28;01mfinally\u001b[39;00m:\n\u001b[1;32m   1036\u001b[0m     \u001b[38;5;28;01mif\u001b[39;00m \u001b[38;5;28mlen\u001b[39m(kwargs) \u001b[38;5;241m>\u001b[39m \u001b[38;5;241m0\u001b[39m:\n",
      "File \u001b[0;32m/usr/local/spark/python/lib/py4j-0.10.9.5-src.zip/py4j/java_gateway.py:1321\u001b[0m, in \u001b[0;36mJavaMember.__call__\u001b[0;34m(self, *args)\u001b[0m\n\u001b[1;32m   1315\u001b[0m command \u001b[38;5;241m=\u001b[39m proto\u001b[38;5;241m.\u001b[39mCALL_COMMAND_NAME \u001b[38;5;241m+\u001b[39m\\\n\u001b[1;32m   1316\u001b[0m     \u001b[38;5;28mself\u001b[39m\u001b[38;5;241m.\u001b[39mcommand_header \u001b[38;5;241m+\u001b[39m\\\n\u001b[1;32m   1317\u001b[0m     args_command \u001b[38;5;241m+\u001b[39m\\\n\u001b[1;32m   1318\u001b[0m     proto\u001b[38;5;241m.\u001b[39mEND_COMMAND_PART\n\u001b[1;32m   1320\u001b[0m answer \u001b[38;5;241m=\u001b[39m \u001b[38;5;28mself\u001b[39m\u001b[38;5;241m.\u001b[39mgateway_client\u001b[38;5;241m.\u001b[39msend_command(command)\n\u001b[0;32m-> 1321\u001b[0m return_value \u001b[38;5;241m=\u001b[39m \u001b[43mget_return_value\u001b[49m\u001b[43m(\u001b[49m\n\u001b[1;32m   1322\u001b[0m \u001b[43m    \u001b[49m\u001b[43manswer\u001b[49m\u001b[43m,\u001b[49m\u001b[43m \u001b[49m\u001b[38;5;28;43mself\u001b[39;49m\u001b[38;5;241;43m.\u001b[39;49m\u001b[43mgateway_client\u001b[49m\u001b[43m,\u001b[49m\u001b[43m \u001b[49m\u001b[38;5;28;43mself\u001b[39;49m\u001b[38;5;241;43m.\u001b[39;49m\u001b[43mtarget_id\u001b[49m\u001b[43m,\u001b[49m\u001b[43m \u001b[49m\u001b[38;5;28;43mself\u001b[39;49m\u001b[38;5;241;43m.\u001b[39;49m\u001b[43mname\u001b[49m\u001b[43m)\u001b[49m\n\u001b[1;32m   1324\u001b[0m \u001b[38;5;28;01mfor\u001b[39;00m temp_arg \u001b[38;5;129;01min\u001b[39;00m temp_args:\n\u001b[1;32m   1325\u001b[0m     temp_arg\u001b[38;5;241m.\u001b[39m_detach()\n",
      "File \u001b[0;32m/usr/local/spark/python/pyspark/sql/utils.py:196\u001b[0m, in \u001b[0;36mcapture_sql_exception.<locals>.deco\u001b[0;34m(*a, **kw)\u001b[0m\n\u001b[1;32m    192\u001b[0m converted \u001b[38;5;241m=\u001b[39m convert_exception(e\u001b[38;5;241m.\u001b[39mjava_exception)\n\u001b[1;32m    193\u001b[0m \u001b[38;5;28;01mif\u001b[39;00m \u001b[38;5;129;01mnot\u001b[39;00m \u001b[38;5;28misinstance\u001b[39m(converted, UnknownException):\n\u001b[1;32m    194\u001b[0m     \u001b[38;5;66;03m# Hide where the exception came from that shows a non-Pythonic\u001b[39;00m\n\u001b[1;32m    195\u001b[0m     \u001b[38;5;66;03m# JVM exception message.\u001b[39;00m\n\u001b[0;32m--> 196\u001b[0m     \u001b[38;5;28;01mraise\u001b[39;00m converted \u001b[38;5;28;01mfrom\u001b[39;00m \u001b[38;5;28mNone\u001b[39m\n\u001b[1;32m    197\u001b[0m \u001b[38;5;28;01melse\u001b[39;00m:\n\u001b[1;32m    198\u001b[0m     \u001b[38;5;28;01mraise\u001b[39;00m\n",
      "\u001b[0;31mAnalysisException\u001b[0m: Table or view not found: vw_kafka_0; line 42 pos 5;\n'Project ['ts, ArrayBuffer(json).*]\n+- 'SubqueryAlias __auto_generated_subquery_name\n   +- 'Project ['FROM_JSON(cast('value as string), \nSTRUCT<gender: STRING,\nname: STRUCT<title: STRING,\n            first: STRING,\n            last: STRING>,\nlocation: STRUCT<street: STRUCT<number: INT,\n                                name: STRING>,\n                 city: STRING,\n                state: STRING,\n                country: STRING,\n                postcode: INT,\n                coordinates: STRUCT<latitude: STRING,\n                                    longitude: STRING>,\n                timezone: STRUCT<offset: STRING,\n                                description: STRING>\n                >,\nemail: STRING,\nlogin: STRUCT< uuid: STRING,\n            username: STRING,\n            password: STRING,\n            salt: STRING,\n            md5: STRING,\n            sha1: STRING,\n            sha256: STRING>,\ndob: STRUCT<date: STRING,\n            age: INT>,\nregistered: STRUCT<date: STRING,\n                    age: INT>,\nphone: STRING,\ncell: STRING,\nid: STRUCT<name: STRING,\n            value: STRING>,\npicture: STRUCT<large: STRING,\n                medium: STRING,\n                thumbnail: STRING>,\nnat: STRING,\ntimestamp: STRING>\n) AS json#109, 'timestamp AS ts#110]\n      +- 'Filter ('offset > 30)\n         +- 'UnresolvedRelation [vw_kafka_0], [], false\n"
     ]
    }
   ],
   "source": [
    "spark.sql(f\"\"\"\n",
    "SELECT ts, json.* FROM (\n",
    "SELECT FROM_JSON(CAST(value AS STRING),'{json_schema}') AS json,\n",
    "timestamp as ts\n",
    "FROM vw_kafka_0 \n",
    "WHERE offset > 30\n",
    ")\n",
    "\"\"\").show()"
   ]
  }
 ],
 "metadata": {
  "kernelspec": {
   "display_name": "Python 3 (ipykernel)",
   "language": "python",
   "name": "python3"
  },
  "language_info": {
   "codemirror_mode": {
    "name": "ipython",
    "version": 3
   },
   "file_extension": ".py",
   "mimetype": "text/x-python",
   "name": "python",
   "nbconvert_exporter": "python",
   "pygments_lexer": "ipython3",
   "version": "3.10.5"
  },
  "vscode": {
   "interpreter": {
    "hash": "0e2f12018b3e0accc8ab8e758aca4e2dec0530acaa30d9457f487afb9e807e5a"
   }
  }
 },
 "nbformat": 4,
 "nbformat_minor": 5
}
