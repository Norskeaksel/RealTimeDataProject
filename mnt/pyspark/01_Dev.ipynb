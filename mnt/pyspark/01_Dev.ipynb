{
 "cells": [
  {
   "cell_type": "code",
   "execution_count": 1,
   "id": "4d9faeb2-7134-4558-85bd-adfc1e50de2a",
   "metadata": {},
   "outputs": [],
   "source": [
    "from pyspark.sql import SparkSession\n",
    "\n",
    "spark = (SparkSession.builder.getOrCreate())"
   ]
  },
  {
   "cell_type": "code",
   "execution_count": 2,
   "id": "8cde55d5-b089-432d-9226-ba31110feb64",
   "metadata": {},
   "outputs": [
    {
     "name": "stdout",
     "output_type": "stream",
     "text": [
      "+----+--------------------+-----------------+---------+------+--------------------+-------------+\n",
      "| key|               value|            topic|partition|offset|           timestamp|timestampType|\n",
      "+----+--------------------+-----------------+---------+------+--------------------+-------------+\n",
      "|null|[7B 22 52 65 63 6...|UsefullAPIResults|        2|   199|2022-08-05 07:23:...|            0|\n",
      "|null|[7B 22 52 65 63 6...|UsefullAPIResults|        2|   198|2022-08-05 07:23:...|            0|\n",
      "|null|[7B 22 52 65 63 6...|UsefullAPIResults|        2|   197|2022-08-05 07:23:...|            0|\n",
      "|null|[7B 22 52 65 63 6...|UsefullAPIResults|        2|   196|2022-08-05 07:23:...|            0|\n",
      "|null|[7B 22 52 65 63 6...|UsefullAPIResults|        2|   195|2022-08-05 07:23:...|            0|\n",
      "|null|[7B 22 52 65 63 6...|UsefullAPIResults|        2|   194|2022-08-05 07:23:...|            0|\n",
      "|null|[7B 22 52 65 63 6...|UsefullAPIResults|        2|   193|2022-08-05 07:23:...|            0|\n",
      "|null|[7B 22 52 65 63 6...|UsefullAPIResults|        2|   192|2022-08-05 07:23:...|            0|\n",
      "|null|[7B 22 52 65 63 6...|UsefullAPIResults|        2|   191|2022-08-05 07:23:...|            0|\n",
      "|null|[7B 22 52 65 63 6...|UsefullAPIResults|        2|   190|2022-08-05 07:23:...|            0|\n",
      "|null|[7B 22 52 65 63 6...|UsefullAPIResults|        2|   189|2022-08-05 07:23:...|            0|\n",
      "|null|[7B 22 52 65 63 6...|UsefullAPIResults|        2|   188|2022-08-05 07:23:...|            0|\n",
      "|null|[7B 22 52 65 63 6...|UsefullAPIResults|        2|   187|2022-08-05 07:23:...|            0|\n",
      "|null|[7B 22 52 65 63 6...|UsefullAPIResults|        2|   186|2022-08-05 07:23:...|            0|\n",
      "|null|[7B 22 52 65 63 6...|UsefullAPIResults|        2|   185|2022-08-05 07:23:...|            0|\n",
      "|null|[7B 22 52 65 63 6...|UsefullAPIResults|        2|   184|2022-08-05 07:23:...|            0|\n",
      "|null|[7B 22 52 65 63 6...|UsefullAPIResults|        2|   183|2022-08-05 07:23:...|            0|\n",
      "|null|[7B 22 52 65 63 6...|UsefullAPIResults|        2|   182|2022-08-05 07:23:...|            0|\n",
      "|null|[7B 22 52 65 63 6...|UsefullAPIResults|        2|   181|2022-08-05 07:23:...|            0|\n",
      "|null|[7B 22 52 65 63 6...|UsefullAPIResults|        2|   180|2022-08-05 07:23:...|            0|\n",
      "+----+--------------------+-----------------+---------+------+--------------------+-------------+\n",
      "only showing top 20 rows\n",
      "\n"
     ]
    }
   ],
   "source": [
    "import pyspark.sql.functions as F\n",
    "\n",
    "spark.read.parquet(\"output/UsefullAPIResults.parquet\").orderBy(F.desc(\"timestamp\")).show()\n",
    "\n",
    "#key - partitioning key\n",
    "#value - the data, in binary format. This is our JSON payload. We'll need to cast it to STRING.\n",
    "#topic - the topic we are subscribing to\n",
    "#partition \n",
    "#offset - the offset value. This is per topic, partition, and consumer group\n",
    "#timestamp - the timestamp\n",
    "#timestampType - whether timestamp is created time or log append time (by default created time)"
   ]
  },
  {
   "cell_type": "code",
   "execution_count": 3,
   "id": "a89ff8be-ceba-4813-a649-ce7de9485afd",
   "metadata": {},
   "outputs": [],
   "source": [
    "spark.read.parquet(\"output/UsefullAPIResults.parquet/*.parquet\").createOrReplaceTempView(\"vw_UsefullAPIResults\")"
   ]
  },
  {
   "cell_type": "code",
   "execution_count": 4,
   "id": "cd724b78-179b-4213-80bf-2cfc460bc5d6",
   "metadata": {},
   "outputs": [
    {
     "name": "stdout",
     "output_type": "stream",
     "text": [
      "+----+--------------------+-----------------+---------+------+--------------------+-------------+\n",
      "| key|               value|            topic|partition|offset|           timestamp|timestampType|\n",
      "+----+--------------------+-----------------+---------+------+--------------------+-------------+\n",
      "|null|[7B 22 52 65 63 6...|UsefullAPIResults|        2|   199|2022-08-05 07:23:...|            0|\n",
      "|null|[7B 22 52 65 63 6...|UsefullAPIResults|        2|   198|2022-08-05 07:23:...|            0|\n",
      "|null|[7B 22 52 65 63 6...|UsefullAPIResults|        2|   197|2022-08-05 07:23:...|            0|\n",
      "|null|[7B 22 52 65 63 6...|UsefullAPIResults|        2|   196|2022-08-05 07:23:...|            0|\n",
      "|null|[7B 22 52 65 63 6...|UsefullAPIResults|        2|   195|2022-08-05 07:23:...|            0|\n",
      "|null|[7B 22 52 65 63 6...|UsefullAPIResults|        2|   194|2022-08-05 07:23:...|            0|\n",
      "|null|[7B 22 52 65 63 6...|UsefullAPIResults|        2|   193|2022-08-05 07:23:...|            0|\n",
      "|null|[7B 22 52 65 63 6...|UsefullAPIResults|        2|   192|2022-08-05 07:23:...|            0|\n",
      "|null|[7B 22 52 65 63 6...|UsefullAPIResults|        2|   191|2022-08-05 07:23:...|            0|\n",
      "|null|[7B 22 52 65 63 6...|UsefullAPIResults|        2|   190|2022-08-05 07:23:...|            0|\n",
      "|null|[7B 22 52 65 63 6...|UsefullAPIResults|        2|   189|2022-08-05 07:23:...|            0|\n",
      "|null|[7B 22 52 65 63 6...|UsefullAPIResults|        2|   188|2022-08-05 07:23:...|            0|\n",
      "|null|[7B 22 52 65 63 6...|UsefullAPIResults|        2|   187|2022-08-05 07:23:...|            0|\n",
      "|null|[7B 22 52 65 63 6...|UsefullAPIResults|        2|   186|2022-08-05 07:23:...|            0|\n",
      "|null|[7B 22 52 65 63 6...|UsefullAPIResults|        2|   185|2022-08-05 07:23:...|            0|\n",
      "|null|[7B 22 52 65 63 6...|UsefullAPIResults|        2|   184|2022-08-05 07:23:...|            0|\n",
      "|null|[7B 22 52 65 63 6...|UsefullAPIResults|        2|   183|2022-08-05 07:23:...|            0|\n",
      "|null|[7B 22 52 65 63 6...|UsefullAPIResults|        2|   182|2022-08-05 07:23:...|            0|\n",
      "|null|[7B 22 52 65 63 6...|UsefullAPIResults|        2|   181|2022-08-05 07:23:...|            0|\n",
      "|null|[7B 22 52 65 63 6...|UsefullAPIResults|        2|   180|2022-08-05 07:23:...|            0|\n",
      "+----+--------------------+-----------------+---------+------+--------------------+-------------+\n",
      "only showing top 20 rows\n",
      "\n"
     ]
    }
   ],
   "source": [
    "spark.sql(\"SELECT * FROM vw_UsefullAPIResults ORDER BY offset desc\").show()"
   ]
  },
  {
   "cell_type": "code",
   "execution_count": 16,
   "id": "e900fe09-d195-4734-9709-d42f426d30fc",
   "metadata": {},
   "outputs": [
    {
     "name": "stdout",
     "output_type": "stream",
     "text": [
      "+----+--------------------------------------------------+-----------------------+\n",
      "| key|                                             value|                     ts|\n",
      "+----+--------------------------------------------------+-----------------------+\n",
      "|null|{\"RecordedAtTime\": \"2022-08-05T09:20:19.7140615...|2022-08-05 07:22:06.227|\n",
      "|null|{\"RecordedAtTime\": \"2022-08-05T09:11:58.706+02:...|2022-08-05 07:22:06.276|\n",
      "|null|{\"RecordedAtTime\": \"2022-08-05T09:20:13.079+02:...|2022-08-05 07:22:06.303|\n",
      "|null|{\"RecordedAtTime\": \"2022-08-05T09:21:53.072+02:...|2022-08-05 07:22:06.339|\n",
      "|null|{\"RecordedAtTime\": \"2022-08-05T08:59:05.8+02:00...|2022-08-05 07:22:06.394|\n",
      "|null|{\"RecordedAtTime\": \"2022-08-05T09:22:04+02:00\",...|2022-08-05 07:22:06.423|\n",
      "|null|{\"RecordedAtTime\": \"2022-08-05T09:21:17+02:00\",...|2022-08-05 07:22:07.004|\n",
      "|null|{\"RecordedAtTime\": \"2022-08-05T09:21:52.105+02:...|2022-08-05 07:22:07.173|\n",
      "|null|{\"RecordedAtTime\": \"2022-08-05T09:21:03.128+02:...|2022-08-05 07:22:07.249|\n",
      "|null|{\"RecordedAtTime\": \"2022-08-05T08:41:42+02:00\",...|2022-08-05 07:22:07.358|\n",
      "|null|{\"RecordedAtTime\": \"2022-08-05T08:18:19+02:00\",...|2022-08-05 07:22:07.649|\n",
      "|null|{\"RecordedAtTime\": \"2022-08-05T09:21:14.137+02:...|2022-08-05 07:22:07.718|\n",
      "|null|{\"RecordedAtTime\": \"2022-08-05T09:22:04+02:00\",...|2022-08-05 07:22:07.763|\n",
      "|null|{\"RecordedAtTime\": \"2022-08-05T09:22:02+02:00\",...|2022-08-05 07:22:07.846|\n",
      "|null|{\"RecordedAtTime\": \"2022-08-05T08:14:01+02:00\",...|2022-08-05 07:22:08.002|\n",
      "|null|{\"RecordedAtTime\": \"2022-08-05T09:21:52.105+02:...|2022-08-05 07:22:08.089|\n",
      "|null|{\"RecordedAtTime\": \"2022-08-05T09:20:03.064+02:...|2022-08-05 07:22:08.118|\n",
      "|null|{\"RecordedAtTime\": \"2022-08-05T09:21:18.12+02:0...|2022-08-05 07:22:08.197|\n",
      "|null|{\"RecordedAtTime\": \"2022-08-05T09:22:03+02:00\",...|2022-08-05 07:22:08.273|\n",
      "|null|{\"RecordedAtTime\": \"2022-08-05T09:21:35.156+02:...|2022-08-05 07:22:08.322|\n",
      "+----+--------------------------------------------------+-----------------------+\n",
      "only showing top 20 rows\n",
      "\n"
     ]
    }
   ],
   "source": [
    "spark.sql(\"SELECT CAST(key AS STRING) key, CAST(value AS STRING) value, timestamp AS ts FROM vw_UsefullAPIResults\").show(20, 50)"
   ]
  },
  {
   "cell_type": "code",
   "execution_count": 24,
   "id": "337e8ec5-ff57-479d-b73b-212f8f2b1b7c",
   "metadata": {},
   "outputs": [],
   "source": [
    "json_schema = \"\"\"\n",
    "STRUCT<\n",
    "RecordedAtTime: STRING,\n",
    "VehicleMode: STRING,\n",
    "OperatorRef: STRING,\n",
    "VehicleRef: STRING,\n",
    "ArrivalStatus: STRING,\n",
    "VehicleAtStop: STRING,\n",
    "VehicleLatitude: FLOAT,\n",
    "VehicleLongitude: FLOAT\n",
    ">\n",
    "\"\"\""
   ]
  },
  {
   "cell_type": "code",
   "execution_count": 25,
   "id": "a00d259d-1261-44c4-89f2-210347d5f4a4",
   "metadata": {},
   "outputs": [
    {
     "name": "stdout",
     "output_type": "stream",
     "text": [
      "+--------------------+--------------------+-----------+-----------------+-------------+--------------------+-------------+---------------+----------------+\n",
      "|                  ts|      RecordedAtTime|VehicleMode|      OperatorRef|   VehicleRef|       ArrivalStatus|VehicleAtStop|VehicleLatitude|VehicleLongitude|\n",
      "+--------------------+--------------------+-----------+-----------------+-------------+--------------------+-------------+---------------+----------------+\n",
      "|2022-08-05 07:22:...|2022-08-05T09:22:...|        BUS|              160|         2133|             DELAYED|         null|      63.284897|       10.284815|\n",
      "|2022-08-05 07:22:...|2022-08-05T09:19:...|       null|          Unibuss|       103081|{\"OnwardCall\":[{\"...|         true|        59.8956|       10.802183|\n",
      "|2022-08-05 07:22:...|2022-08-05T09:18:...|        BUS|               80|       811222|             ON_TIME|         null|       59.00076|         9.74867|\n",
      "|2022-08-05 07:22:...|2022-08-05T09:18:...|        BUS|               70|       753259|             ON_TIME|         null|            0.0|             0.0|\n",
      "|2022-08-05 07:22:...|2022-08-05T09:21:...|       null|          Unibuss|       103082|{\"OnwardCall\":[{\"...|        false|      59.909866|          10.795|\n",
      "|2022-08-05 07:22:...|2022-08-05T09:22:...|        BUS|  INN:Operator:41|41_x0020_2603|             ON_TIME|         null|           null|            null|\n",
      "|2022-08-05 07:22:...|2022-08-05T09:21:...|       null|          Unibuss|       103088|{\"OnwardCall\":[{\"...|        false|      59.949318|       10.729617|\n",
      "|2022-08-05 07:22:...|2022-08-05T09:05:...|        BUS|  INN:Operator:41|41_x0020_2601|             ON_TIME|         null|           null|            null|\n",
      "|2022-08-05 07:22:...|2022-08-05T09:18:...|        BUS|  SKY:Operator:44|   3350447703|                null|         true|      60.526295|       5.4940915|\n",
      "|2022-08-05 07:22:...|2022-08-05T09:03:...|       null|          Unibuss|       103084|{\"OnwardCall\":[{\"...|        false|      59.898117|       10.776467|\n",
      "|2022-08-05 07:22:...|2022-08-05T09:21:...|       null|          Unibuss|       103087|{\"OnwardCall\":[{\"...|        false|      59.928516|       10.806733|\n",
      "|2022-08-05 07:22:...|2022-08-05T09:03:...|        BUS|               80|       811219|             ON_TIME|         null|       59.21866|        9.603184|\n",
      "|2022-08-05 07:22:...|2022-08-05T09:12:...|        BUS|               80|       811213|             ON_TIME|         null|       59.13573|         9.64476|\n",
      "|2022-08-05 07:22:...|2022-08-05T09:21:...|        BUS|               80|       811214|             ON_TIME|         null|       59.13501|         9.64493|\n",
      "|2022-08-05 07:22:...|2022-08-05T08:51:...|        BUS|               70|       753242|             ON_TIME|         null|       58.97257|        9.863209|\n",
      "|2022-08-05 07:22:...|2022-08-05T09:19:...|       null|          Unibuss|       103090|{\"OnwardCall\":[{\"...|        false|       59.91318|        10.63445|\n",
      "|2022-08-05 07:22:...|2022-08-05T09:19:...|        BUS|               80|       811217|             ON_TIME|         null|       59.09434|       9.6880455|\n",
      "|2022-08-05 07:22:...|2022-08-05T09:09:...|        BUS| OST:Operator:152|   3620502545|                null|        false|       59.55671|        11.36435|\n",
      "|2022-08-05 07:22:...|2022-08-05T09:21:...|        BUS| OST:Operator:152|   3620502540|                null|        false|      59.791504|       10.760537|\n",
      "|2022-08-05 07:22:...|2022-08-05T09:22:...|        BUS|SKY:Operator:2438|   3440189721|                null|        false|       61.56865|        5.611058|\n",
      "+--------------------+--------------------+-----------+-----------------+-------------+--------------------+-------------+---------------+----------------+\n",
      "only showing top 20 rows\n",
      "\n"
     ]
    }
   ],
   "source": [
    "spark.sql(f\"\"\"\n",
    "SELECT ts, json.* FROM (\n",
    "SELECT FROM_JSON(CAST(value AS STRING),'{json_schema}') AS json,\n",
    "timestamp as ts\n",
    "FROM vw_UsefullAPIResults\n",
    "WHERE offset > 30\n",
    ")\n",
    "\"\"\").show()"
   ]
  },
  {
   "cell_type": "code",
   "execution_count": null,
   "id": "f503f067-939f-4496-82ab-077b345b2c5f",
   "metadata": {},
   "outputs": [],
   "source": []
  }
 ],
 "metadata": {
  "kernelspec": {
   "display_name": "Python 3 (ipykernel)",
   "language": "python",
   "name": "python3"
  },
  "language_info": {
   "codemirror_mode": {
    "name": "ipython",
    "version": 3
   },
   "file_extension": ".py",
   "mimetype": "text/x-python",
   "name": "python",
   "nbconvert_exporter": "python",
   "pygments_lexer": "ipython3",
   "version": "3.10.5"
  },
  "vscode": {
   "interpreter": {
    "hash": "0e2f12018b3e0accc8ab8e758aca4e2dec0530acaa30d9457f487afb9e807e5a"
   }
  }
 },
 "nbformat": 4,
 "nbformat_minor": 5
}
